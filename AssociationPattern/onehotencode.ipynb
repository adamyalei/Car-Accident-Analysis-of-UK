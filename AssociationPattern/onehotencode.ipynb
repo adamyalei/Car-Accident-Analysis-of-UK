{
 "cells": [
  {
   "cell_type": "code",
   "execution_count": null,
   "metadata": {
    "_cell_guid": "b1076dfc-b9ad-4769-8c92-a6c4dae69d19",
    "_uuid": "8f2839f25d086af736a60e9eeb907d3b93b6e0e5"
   },
   "outputs": [],
   "source": [
    "# This Python 3 environment comes with many helpful analytics libraries installed\n",
    "# It is defined by the kaggle/python docker image: https://github.com/kaggle/docker-python\n",
    "# For example, here's several helpful packages to load in \n",
    "\n",
    "import numpy as np # linear algebra\n",
    "import pandas as pd # data processing, CSV file I/O (e.g. pd.read_csv)\n",
    "\n",
    "# Input data files are available in the \"../input/\" directory.\n",
    "# For example, running this (by clicking run or pressing Shift+Enter) will list all files under the input directory\n",
    "\n",
    "import os\n",
    "for dirname, _, filenames in os.walk('/kaggle/input'):\n",
    "    for filename in filenames:\n",
    "        print(os.path.join(dirname, filename))\n",
    "\n",
    "# Any results you write to the current directory are saved as output."
   ]
  },
  {
   "cell_type": "code",
   "execution_count": null,
   "metadata": {
    "_cell_guid": "",
    "_uuid": ""
   },
   "outputs": [],
   "source": [
    "import pandas as pd\n",
    "data = pd.read_csv(\"../input/fatal_categorical.csv\")"
   ]
  },
  {
   "cell_type": "code",
   "execution_count": null,
   "metadata": {},
   "outputs": [],
   "source": [
    "data.head()"
   ]
  },
  {
   "cell_type": "code",
   "execution_count": null,
   "metadata": {},
   "outputs": [],
   "source": [
    "from sklearn.preprocessing import LabelEncoder\n",
    "#encode_list = ['Location_Easting_OSGR', 'Location_Northing_OSGR','Longitude','Latitude','Police_Force','Time','Speed_limit']\n",
    "\n",
    "class_le = LabelEncoder()\n",
    "data['Location_Easting_OSGR'] = class_le.fit_transform(data['Location_Easting_OSGR'].values)\n",
    "data['Location_Northing_OSGR'] = class_le.fit_transform(data['Location_Northing_OSGR'].values)\n",
    "data['Longitude'] = class_le.fit_transform(data['Longitude'].values)\n",
    "data['Latitude'] = class_le.fit_transform(data['Latitude'].values)\n",
    "data['Police_Force'] = class_le.fit_transform(data['Police_Force'].values)\n",
    "data['Time'] = class_le.fit_transform(data['Time'].values)\n",
    "data['Speed_limit'] = class_le.fit_transform(data['Speed_limit'].values)"
   ]
  },
  {
   "cell_type": "code",
   "execution_count": null,
   "metadata": {
    "_kg_hide-output": true
   },
   "outputs": [],
   "source": [
    "data['East']=data['Location_Easting_OSGR']\n",
    "del data['Location_Easting_OSGR']\n",
    "\n",
    "data['North']=data['Location_Northing_OSGR']\n",
    "del data['Location_Northing_OSGR']\n",
    "\n",
    "data.head()\n"
   ]
  },
  {
   "cell_type": "code",
   "execution_count": null,
   "metadata": {},
   "outputs": [],
   "source": [
    "data['ID']=data['id']\n",
    "del data['id']"
   ]
  },
  {
   "cell_type": "code",
   "execution_count": null,
   "metadata": {},
   "outputs": [],
   "source": [
    "data.head()"
   ]
  },
  {
   "cell_type": "code",
   "execution_count": null,
   "metadata": {},
   "outputs": [],
   "source": [
    "alist = list(data.columns)\n",
    "\n",
    "for elem in alist[0:14]:\n",
    "    ohk=pd.get_dummies(data[elem], prefix=str(elem))\n",
    "    data=pd.concat([data, ohk], axis=1)\n",
    "\n",
    "data.head()"
   ]
  },
  {
   "cell_type": "code",
   "execution_count": null,
   "metadata": {},
   "outputs": [],
   "source": [
    "blist=['Longitude', 'Latitude', 'Police_Force', 'Time', 'Speed_limit', 'Number_of_Vehicles', 'Day_of_Week', '1st_Road_Class', '2nd_Road_Class', 'Light_Conditions', 'Weather_Conditions', 'Road_Surface_Conditions', 'Year', 'East', 'North']\n",
    "\n",
    "for elem in blist:\n",
    "    del data[elem]\n",
    "    \n",
    "data.head()"
   ]
  },
  {
   "cell_type": "code",
   "execution_count": null,
   "metadata": {},
   "outputs": [],
   "source": [
    "data.to_csv('/kaggle/working/fatal_ohe.csv')"
   ]
  }
 ],
 "metadata": {
  "kernelspec": {
   "display_name": "Python 3",
   "language": "python",
   "name": "python3"
  },
  "language_info": {
   "codemirror_mode": {
    "name": "ipython",
    "version": 3
   },
   "file_extension": ".py",
   "mimetype": "text/x-python",
   "name": "python",
   "nbconvert_exporter": "python",
   "pygments_lexer": "ipython3",
   "version": "3.7.0"
  }
 },
 "nbformat": 4,
 "nbformat_minor": 1
}
